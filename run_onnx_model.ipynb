{
 "cells": [
  {
   "cell_type": "code",
   "execution_count": 1,
   "metadata": {},
   "outputs": [],
   "source": [
    "import onnx\n",
    "from onnx import numpy_helper\n",
    "import onnxruntime\n",
    "import numpy as np"
   ]
  },
  {
   "cell_type": "code",
   "execution_count": 3,
   "metadata": {},
   "outputs": [],
   "source": [
    "sess = onnxruntime.InferenceSession(\"MoveToGoal.onnx\", None)"
   ]
  },
  {
   "cell_type": "code",
   "execution_count": 4,
   "metadata": {},
   "outputs": [
    {
     "output_type": "stream",
     "name": "stdout",
     "text": [
      "NodeArg(name='vector_observation', type='tensor(float)', shape=['batch', 6])\n-------\nNodeArg(name='version_number', type='tensor(float)', shape=[1])\nNodeArg(name='memory_size', type='tensor(float)', shape=[1])\nNodeArg(name='continuous_actions', type='tensor(float)', shape=['batch', 2])\nNodeArg(name='continuous_action_output_shape', type='tensor(float)', shape=[1])\nNodeArg(name='action', type='tensor(float)', shape=['batch', 2])\nNodeArg(name='is_continuous_control', type='tensor(float)', shape=[1])\nNodeArg(name='action_output_shape', type='tensor(float)', shape=[1])\n"
     ]
    }
   ],
   "source": [
    "input_ = sess.get_inputs()\n",
    "for i in input_:\n",
    "    print(i)\n",
    "print(\"-------\")\n",
    "output_ = sess.get_outputs()\n",
    "for i in output_:\n",
    "    print(i)"
   ]
  },
  {
   "cell_type": "code",
   "execution_count": 24,
   "metadata": {},
   "outputs": [
    {
     "name": "stdout",
     "output_type": "stream",
     "text": [
      "vector_observation\n"
     ]
    }
   ],
   "source": [
    "input_name = sess.get_inputs()[0].name"
   ]
  },
  {
   "cell_type": "code",
   "execution_count": 46,
   "metadata": {},
   "outputs": [
    {
     "name": "stdout",
     "output_type": "stream",
     "text": [
      "[array([[-0.32285634,  0.167697  ]], dtype=float32)]\n"
     ]
    }
   ],
   "source": [
    "\n",
    "array = np.array([2.0,4.0,5.0, 5.0,5.0,5.0], dtype=np.float32)\n",
    "tensor = numpy_helper.from_array(array)\n",
    "pred_onx = sess.run([\"continuous_actions\"], {input_name: [array]})\n",
    "print(pred_onx)"
   ]
  },
  {
   "cell_type": "code",
   "execution_count": null,
   "metadata": {},
   "outputs": [],
   "source": []
  },
  {
   "cell_type": "code",
   "execution_count": null,
   "metadata": {},
   "outputs": [],
   "source": []
  }
 ],
 "metadata": {
  "kernelspec": {
   "display_name": "Python 3",
   "language": "python",
   "name": "python3"
  },
  "language_info": {
   "codemirror_mode": {
    "name": "ipython",
    "version": 3
   },
   "file_extension": ".py",
   "mimetype": "text/x-python",
   "name": "python",
   "nbconvert_exporter": "python",
   "pygments_lexer": "ipython3",
   "version": "3.8.5-final"
  }
 },
 "nbformat": 4,
 "nbformat_minor": 4
}